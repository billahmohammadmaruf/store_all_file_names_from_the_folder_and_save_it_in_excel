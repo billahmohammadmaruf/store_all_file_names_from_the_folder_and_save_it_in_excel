{
 "cells": [
  {
   "cell_type": "code",
   "execution_count": null,
   "id": "c1572b69",
   "metadata": {},
   "outputs": [],
   "source": [
    "import os\n",
    "import pandas as pd\n",
    "\n",
    "os.chdir(r'C:\\Users\\MohammadMaruf.Billah\\Desktop\\files')"
   ]
  },
  {
   "cell_type": "code",
   "execution_count": null,
   "id": "7c6ed0f4",
   "metadata": {},
   "outputs": [],
   "source": [
    "path = r'C:\\Users\\MohammadMaruf.Billah\\Desktop\\files'\n",
    "list = []\n",
    "for (root,dirs, file) in os.walk(path):\n",
    "    for f in file:\n",
    "        print(f)\n",
    "\n",
    "my_data = pd.DataFrame(file)\n",
    "my_data.to_excel(\"outputfile.xlsx\", index = False, header= False)"
   ]
  }
 ],
 "metadata": {
  "kernelspec": {
   "display_name": "Python 3 (ipykernel)",
   "language": "python",
   "name": "python3"
  },
  "language_info": {
   "codemirror_mode": {
    "name": "ipython",
    "version": 3
   },
   "file_extension": ".py",
   "mimetype": "text/x-python",
   "name": "python",
   "nbconvert_exporter": "python",
   "pygments_lexer": "ipython3",
   "version": "3.10.4"
  }
 },
 "nbformat": 4,
 "nbformat_minor": 5
}
